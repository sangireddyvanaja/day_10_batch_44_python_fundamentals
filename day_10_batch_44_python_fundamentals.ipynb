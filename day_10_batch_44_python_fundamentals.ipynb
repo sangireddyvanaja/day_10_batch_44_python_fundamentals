{
 "cells": [
  {
   "cell_type": "code",
   "execution_count": null,
   "metadata": {},
   "outputs": [],
   "source": [
    "#introduction to while loops:\n",
    "#overview:while loop runs as long as certain condition is true\n"
   ]
  },
  {
   "cell_type": "code",
   "execution_count": 1,
   "metadata": {},
   "outputs": [
    {
     "name": "stdout",
     "output_type": "stream",
     "text": [
      "1\n",
      "2\n",
      "3\n",
      "4\n",
      "5\n"
     ]
    }
   ],
   "source": [
    "currentnumber=1\n",
    "while currentnumber<=5:\n",
    "    print(currentnumber)\n",
    "    currentnumber+=1"
   ]
  },
  {
   "cell_type": "code",
   "execution_count": null,
   "metadata": {},
   "outputs": [],
   "source": [
    "#letting the user choose when to quite"
   ]
  },
  {
   "cell_type": "code",
   "execution_count": 4,
   "metadata": {},
   "outputs": [
    {
     "name": "stdout",
     "output_type": "stream",
     "text": [
      "\n",
      " tell me something i will repeat it back to you\n",
      " enter 'quit'to end the programhello\n",
      "hello\n",
      "\n",
      " tell me something i will repeat it back to you\n",
      " enter 'quit'to end the programhow are you\n",
      "how are you\n",
      "\n",
      " tell me something i will repeat it back to you\n",
      " enter 'quit'to end the programquit\n",
      "quit\n"
     ]
    }
   ],
   "source": [
    "prompt=\"\\n tell me something i will repeat it back to you\"\n",
    "prompt+=\"\\n enter 'quit'to end the program\"\n",
    "message=\"  \"\n",
    "while message!='quit':\n",
    "    message=input(prompt)\n",
    "    print(message)"
   ]
  },
  {
   "cell_type": "code",
   "execution_count": null,
   "metadata": {},
   "outputs": [],
   "source": [
    "#introduction to functions\n",
    "#overview:which are named blocks of code that are designed to do one specify job\n",
    "#when you want to perform a particular task that you have defined in the function responsible for it if you need to perform the task\n"
   ]
  },
  {
   "cell_type": "code",
   "execution_count": null,
   "metadata": {},
   "outputs": [],
   "source": [
    "#req:create a greet user function that prints a greeting message"
   ]
  },
  {
   "cell_type": "code",
   "execution_count": 29,
   "metadata": {},
   "outputs": [],
   "source": [
    "def greetuser():\n",
    "    \"\"\"display a simple greeting\"\"\"\n",
    "    print(\"hello\")"
   ]
  },
  {
   "cell_type": "code",
   "execution_count": null,
   "metadata": {},
   "outputs": [],
   "source": []
  },
  {
   "cell_type": "code",
   "execution_count": null,
   "metadata": {},
   "outputs": [],
   "source": []
  },
  {
   "cell_type": "code",
   "execution_count": null,
   "metadata": {},
   "outputs": [],
   "source": []
  }
 ],
 "metadata": {
  "kernelspec": {
   "display_name": "Python 3",
   "language": "python",
   "name": "python3"
  },
  "language_info": {
   "codemirror_mode": {
    "name": "ipython",
    "version": 3
   },
   "file_extension": ".py",
   "mimetype": "text/x-python",
   "name": "python",
   "nbconvert_exporter": "python",
   "pygments_lexer": "ipython3",
   "version": "3.8.5"
  }
 },
 "nbformat": 4,
 "nbformat_minor": 4
}
